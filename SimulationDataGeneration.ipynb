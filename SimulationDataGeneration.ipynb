{
 "cells": [
  {
   "cell_type": "markdown",
   "id": "2713c3f3",
   "metadata": {},
   "source": [
    "# Data generation"
   ]
  },
  {
   "cell_type": "markdown",
   "id": "1ca14147",
   "metadata": {},
   "source": [
    "### Generate the data"
   ]
  },
  {
   "cell_type": "code",
   "execution_count": 1,
   "id": "0a1e28b1",
   "metadata": {},
   "outputs": [
    {
     "name": "stderr",
     "output_type": "stream",
     "text": [
      "<ipython-input-1-206b5bbb2e4d>:11: RuntimeWarning: covariance is not positive-semidefinite.\n",
      "  x = np.array([np.random.multivariate_normal(means[i], covs[i], num_per_class) for i in range(num_classes)])\n"
     ]
    }
   ],
   "source": [
    "import numpy as np\n",
    "\n",
    "num_classes = 10\n",
    "num_per_class = 2000\n",
    "cov_scale = 1.2\n",
    "means = [[i, i] for i in range(num_classes)]\n",
    "covs = [np.random.rand(2,2)*cov_scale for i in range(num_classes)]\n",
    "\n",
    "labels = np.array([item for sublist in [[i]* num_per_class for i in range(num_classes)] for item in sublist]) \n",
    "\n",
    "x = np.array([np.random.multivariate_normal(means[i], covs[i], num_per_class) for i in range(num_classes)])\n",
    "x = x.reshape((num_classes * num_per_class, 2))"
   ]
  },
  {
   "cell_type": "markdown",
   "id": "79cd271e",
   "metadata": {},
   "source": [
    "### Plot the data"
   ]
  },
  {
   "cell_type": "code",
   "execution_count": 2,
   "id": "47ffe717",
   "metadata": {},
   "outputs": [
    {
     "data": {
      "image/png": "[encoded data removed]",
      "text/plain": [
       "<Figure size 432x288 with 1 Axes>"
      ]
     },
     "metadata": {
      "needs_background": "light"
     },
     "output_type": "display_data"
    }
   ],
   "source": [
    "import matplotlib.pyplot as plt\n",
    "\n",
    "for i in range(num_classes):\n",
    "    plt.plot(x[i*num_per_class: (i+1)*num_per_class, 0], \n",
    "             x[i*num_per_class: (i+1)*num_per_class, 1], \n",
    "             '+',\n",
    "             label='$class ={i}$'.format(i=i), \n",
    "            )\n",
    "plt.legend(loc='best', prop={'size': 7})\n",
    "plt.show()"
   ]
  },
  {
   "cell_type": "markdown",
   "id": "00050284",
   "metadata": {},
   "source": [
    "### Split the data"
   ]
  },
  {
   "cell_type": "code",
   "execution_count": 3,
   "id": "ee8b466b",
   "metadata": {},
   "outputs": [],
   "source": [
    "import random\n",
    "shuffled_indices = [i for i in range(num_classes * num_per_class)]\n",
    "random.shuffle(shuffled_indices)\n",
    "x = x[shuffled_indices, :]\n",
    "#print(x.shape)\n",
    "labels = labels[shuffled_indices]\n",
    "\n",
    "train_ratio = 0.2\n",
    "train_num = int(train_ratio * num_classes * num_per_class)\n",
    "\n",
    "x_tr = x[:train_num, :]\n",
    "y_tr = labels[:train_num]\n",
    "x_rest = x[train_num:, :]\n",
    "y_rest = labels[train_num:]"
   ]
  },
  {
   "cell_type": "markdown",
   "id": "565a902e",
   "metadata": {},
   "source": [
    "### Create datasets"
   ]
  },
  {
   "cell_type": "code",
   "execution_count": 4,
   "id": "6c20e5bb",
   "metadata": {},
   "outputs": [],
   "source": [
    "import torch\n",
    "from torch.utils.data import Dataset, DataLoader\n",
    "class Data(Dataset):\n",
    "    def __init__(self, x_train, y_train):\n",
    "        self.x=torch.from_numpy(x_train)\n",
    "        self.y=torch.from_numpy(y_train)\n",
    "        self.len=self.x.shape[0]\n",
    "        \n",
    "    def __getitem__(self,index):      \n",
    "        return self.x[index], self.y[index]\n",
    "    \n",
    "    def __len__(self):\n",
    "        return self.len\n",
    "    \n",
    "train_dataset = Data(x_tr, y_tr)\n",
    "rest_dataset = Data(x_rest, y_rest)"
   ]
  },
  {
   "cell_type": "markdown",
   "id": "98b141a7",
   "metadata": {},
   "source": [
    "# Model"
   ]
  },
  {
   "cell_type": "markdown",
   "id": "91b78c04",
   "metadata": {},
   "source": [
    "### Build the model "
   ]
  },
  {
   "cell_type": "code",
   "execution_count": 5,
   "id": "ca087079",
   "metadata": {},
   "outputs": [],
   "source": [
    "import torch.nn as nn\n",
    "class MultiClassModel(nn.Module):\n",
    "    def __init__(self,D_in,H,D_out):\n",
    "        super(MultiClassModel,self).__init__()\n",
    "        self.linear1=nn.Linear(D_in,H)\n",
    "        self.linear2=nn.Linear(H,D_out)\n",
    "\n",
    "        \n",
    "    def forward(self,x):\n",
    "        x=torch.sigmoid(self.linear1(x.float()))  \n",
    "        x=self.linear2(x)  \n",
    "        return x\n",
    "    \n",
    "hidden_dim = 50\n",
    "model=MultiClassModel(2, hidden_dim, num_classes)"
   ]
  },
  {
   "cell_type": "code",
   "execution_count": 6,
   "id": "61db1b92",
   "metadata": {},
   "outputs": [
    {
     "name": "stdout",
     "output_type": "stream",
     "text": [
      "MultiClassModel(\n",
      "  (linear1): Linear(in_features=2, out_features=50, bias=True)\n",
      "  (linear2): Linear(in_features=50, out_features=10, bias=True)\n",
      ")\n"
     ]
    }
   ],
   "source": [
    "print(model)"
   ]
  },
  {
   "cell_type": "code",
   "execution_count": 7,
   "id": "974f4f5e",
   "metadata": {},
   "outputs": [
    {
     "name": "stdout",
     "output_type": "stream",
     "text": [
      "----------------------------------------------------------------\n",
      "        Layer (type)               Output Shape         Param #\n",
      "================================================================\n",
      "            Linear-1               [-1, 64, 50]             150\n",
      "            Linear-2               [-1, 64, 10]             510\n",
      "================================================================\n",
      "Total params: 660\n",
      "Trainable params: 660\n",
      "Non-trainable params: 0\n",
      "----------------------------------------------------------------\n",
      "Input size (MB): 0.00\n",
      "Forward/backward pass size (MB): 0.03\n",
      "Params size (MB): 0.00\n",
      "Estimated Total Size (MB): 0.03\n",
      "----------------------------------------------------------------\n"
     ]
    }
   ],
   "source": [
    "from torchsummary import summary\n",
    "summary(model, (64,2))"
   ]
  },
  {
   "cell_type": "markdown",
   "id": "a7e94d1f",
   "metadata": {},
   "source": [
    "### Train the model "
   ]
  },
  {
   "cell_type": "code",
   "execution_count": null,
   "id": "41f8ad42",
   "metadata": {},
   "outputs": [
    {
     "name": "stdout",
     "output_type": "stream",
     "text": [
      "epoch 0, loss 2.133866548538208\n",
      "epoch 100, loss 1.134729027748108\n",
      "epoch 200, loss 1.0741662979125977\n",
      "epoch 300, loss 1.066692590713501\n",
      "epoch 400, loss 1.066475510597229\n",
      "epoch 500, loss 1.0676424503326416\n",
      "epoch 600, loss 1.0694591999053955\n",
      "epoch 700, loss 1.0708253383636475\n",
      "epoch 800, loss 1.0712674856185913\n",
      "epoch 900, loss 1.0710184574127197\n",
      "epoch 1000, loss 1.0703997611999512\n",
      "epoch 1100, loss 1.0695587396621704\n",
      "epoch 1200, loss 1.0685086250305176\n",
      "epoch 1300, loss 1.0672335624694824\n",
      "epoch 1400, loss 1.0657442808151245\n",
      "epoch 1500, loss 1.0640830993652344\n",
      "epoch 1600, loss 1.0623024702072144\n",
      "epoch 1700, loss 1.0604556798934937\n",
      "epoch 1800, loss 1.058591365814209\n",
      "epoch 1900, loss 1.0567606687545776\n",
      "epoch 2000, loss 1.0550169944763184\n",
      "epoch 2100, loss 1.0534003973007202\n",
      "epoch 2200, loss 1.0519304275512695\n",
      "epoch 2300, loss 1.050608515739441\n",
      "epoch 2400, loss 1.0494260787963867\n",
      "epoch 2500, loss 1.0483704805374146\n",
      "epoch 2600, loss 1.0474278926849365\n"
     ]
    }
   ],
   "source": [
    "criterion=nn.CrossEntropyLoss()\n",
    "learning_rate=0.05\n",
    "optimizer=torch.optim.SGD(model.parameters(), lr=learning_rate)\n",
    "n_epochs=3000\n",
    "loss_list=[]\n",
    "trainloader=DataLoader(dataset=train_dataset,batch_size=64)\n",
    "\n",
    "for epoch in range(n_epochs):\n",
    "    for x, y in trainloader:       \n",
    "        #clear gradient \n",
    "        optimizer.zero_grad()\n",
    "        #make a prediction \n",
    "        z=model(x)\n",
    "        # calculate loss\n",
    "        loss=criterion(z,y)\n",
    "        # calculate gradients of parameters \n",
    "        loss.backward()\n",
    "        # update parameters \n",
    "        optimizer.step()\n",
    "        \n",
    "        loss_list.append(loss.data)\n",
    "    if epoch%100 == 0:\n",
    "        print('epoch {}, loss {}'.format(epoch, loss.item()))"
   ]
  },
  {
   "cell_type": "markdown",
   "id": "d0624fcf",
   "metadata": {},
   "source": [
    "### Run inference"
   ]
  },
  {
   "cell_type": "code",
   "execution_count": null,
   "id": "61108e96",
   "metadata": {},
   "outputs": [],
   "source": [
    "z=model(torch.from_numpy(x_rest))\n",
    "yhat=torch.max(z.data,1)\n",
    "yhat"
   ]
  },
  {
   "cell_type": "markdown",
   "id": "2cd057cb",
   "metadata": {},
   "source": [
    "### Write the simulation data to csv"
   ]
  },
  {
   "cell_type": "code",
   "execution_count": null,
   "id": "d913fdc7",
   "metadata": {},
   "outputs": [],
   "source": [
    "import pandas as pd\n",
    "\n",
    "predicted_label = np.argmax(z.data, axis =1).numpy()\n",
    "\n",
    "outputs = np.concatenate((np.arange(len(y_rest)).reshape(len(y_rest), 1), \n",
    "                          y_rest.astype(int).reshape(len(y_rest), 1), \n",
    "                          predicted_label.astype(int).reshape(len(predicted_label), 1), \n",
    "                          z.data), axis =1)\n",
    "df = pd.DataFrame(outputs)\n",
    "df.to_csv(\"output.csv\")"
   ]
  },
  {
   "cell_type": "markdown",
   "id": "def7f3f2",
   "metadata": {},
   "source": [
    "### Get accuracy "
   ]
  },
  {
   "cell_type": "code",
   "execution_count": null,
   "id": "087641e1",
   "metadata": {},
   "outputs": [],
   "source": [
    "restdata_loader=DataLoader(dataset=rest_dataset,batch_size=64)\n",
    "correct = 0\n",
    "total = 0\n",
    "for x, y in restdata_loader:\n",
    "    z0 = model(x)\n",
    "    pred = z0.max(1, keepdim=True)[1] # get the index of the max logit\n",
    "    correct += pred.eq(y.view_as(pred)).sum().item()\n",
    "    total += int(y.shape[0])\n",
    "correct / total"
   ]
  }
 ],
 "metadata": {
  "kernelspec": {
   "display_name": "Python 3",
   "language": "python",
   "name": "python3"
  },
  "language_info": {
   "codemirror_mode": {
    "name": "ipython",
    "version": 3
   },
   "file_extension": ".py",
   "mimetype": "text/x-python",
   "name": "python",
   "nbconvert_exporter": "python",
   "pygments_lexer": "ipython3",
   "version": "3.9.6"
  }
 },
 "nbformat": 4,
 "nbformat_minor": 5
}
